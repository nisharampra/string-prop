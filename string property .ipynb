{
 "cells": [
  {
   "cell_type": "code",
   "execution_count": 1,
   "id": "a634eb17",
   "metadata": {},
   "outputs": [],
   "source": [
    "name='sam'"
   ]
  },
  {
   "cell_type": "code",
   "execution_count": 2,
   "id": "2493f744",
   "metadata": {},
   "outputs": [],
   "source": [
    "#name[0]='p'"
   ]
  },
  {
   "cell_type": "code",
   "execution_count": 3,
   "id": "0499a42c",
   "metadata": {},
   "outputs": [],
   "source": [
    "lastLetters=name[1:]"
   ]
  },
  {
   "cell_type": "code",
   "execution_count": 4,
   "id": "037dfe0f",
   "metadata": {},
   "outputs": [
    {
     "data": {
      "text/plain": [
       "'am'"
      ]
     },
     "execution_count": 4,
     "metadata": {},
     "output_type": "execute_result"
    }
   ],
   "source": [
    "lastLetters"
   ]
  },
  {
   "cell_type": "code",
   "execution_count": 6,
   "id": "9034c52d",
   "metadata": {},
   "outputs": [
    {
     "data": {
      "text/plain": [
       "'pam'"
      ]
     },
     "execution_count": 6,
     "metadata": {},
     "output_type": "execute_result"
    }
   ],
   "source": [
    "'p'+lastLetters"
   ]
  },
  {
   "cell_type": "code",
   "execution_count": 7,
   "id": "9053784d",
   "metadata": {},
   "outputs": [],
   "source": [
    "x='hi this is a strirng'"
   ]
  },
  {
   "cell_type": "code",
   "execution_count": 8,
   "id": "c81344ea",
   "metadata": {},
   "outputs": [
    {
     "data": {
      "text/plain": [
       "['h', ' th', 's ', 's a str', 'rng']"
      ]
     },
     "execution_count": 8,
     "metadata": {},
     "output_type": "execute_result"
    }
   ],
   "source": [
    "x.split('i')"
   ]
  },
  {
   "cell_type": "code",
   "execution_count": null,
   "id": "093f0ab7",
   "metadata": {},
   "outputs": [],
   "source": []
  }
 ],
 "metadata": {
  "kernelspec": {
   "display_name": "Python 3 (ipykernel)",
   "language": "python",
   "name": "python3"
  },
  "language_info": {
   "codemirror_mode": {
    "name": "ipython",
    "version": 3
   },
   "file_extension": ".py",
   "mimetype": "text/x-python",
   "name": "python",
   "nbconvert_exporter": "python",
   "pygments_lexer": "ipython3",
   "version": "3.11.5"
  }
 },
 "nbformat": 4,
 "nbformat_minor": 5
}
